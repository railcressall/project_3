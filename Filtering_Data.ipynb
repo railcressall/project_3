{
 "cells": [
  {
   "cell_type": "markdown",
   "metadata": {},
   "source": [
    "# Geoapify Geocode Demo"
   ]
  },
  {
   "cell_type": "code",
   "execution_count": 8,
   "metadata": {},
   "outputs": [],
   "source": [
    "# Dependencies and Setup\n",
    "import matplotlib.pyplot as plt\n",
    "import pandas as pd\n",
    "import numpy as np\n",
    "import requests\n",
    "import time\n",
    "import json\n",
    "from scipy.stats import linregress\n",
    "from pprint import pprint\n",
    "\n",
    "# API key\n",
    "api_key = \"60a6ffdd990b65ca16853197a6e0c84c\""
   ]
  },
  {
   "cell_type": "code",
   "execution_count": 9,
   "metadata": {},
   "outputs": [
    {
     "name": "stdout",
     "output_type": "stream",
     "text": [
      "Cities: ['New York', 'Los Angeles', 'Chicago', 'Houston', 'Philadelphia', 'Phoenix', 'San Antonio', 'San Diego', 'Dallas', 'San Jose', 'Austin', 'Indianapolis', 'Jacksonville', 'San Francisco', 'Columbus', 'Charlotte', 'Fort Worth', 'Detroit', 'El Paso', 'Memphis', 'Seattle', 'Denver', 'Washington', 'Boston', 'Nashville-Davidson', 'Baltimore', 'Oklahoma City', 'Louisville/Jefferson County', 'Portland', 'Las Vegas', 'Milwaukee', 'Albuquerque', 'Tucson', 'Fresno', 'Sacramento', 'Long Beach', 'Kansas City', 'Mesa', 'Virginia Beach', 'Atlanta', 'Colorado Springs', 'Omaha', 'Raleigh', 'Miami', 'Oakland', 'Minneapolis', 'Tulsa', 'Cleveland', 'Wichita', 'Arlington', 'New Orleans', 'Bakersfield', 'Tampa', 'Honolulu', 'Aurora', 'Anaheim', 'Santa Ana', 'St. Louis', 'Riverside', 'Corpus Christi', 'Lexington-Fayette', 'Pittsburgh', 'Anchorage', 'Stockton', 'Cincinnati', 'St. Paul', 'Toledo', 'Greensboro', 'Newark', 'Plano', 'Henderson', 'Lincoln', 'Buffalo', 'Jersey City', 'Chula Vista', 'Fort Wayne', 'Orlando', 'St. Petersburg', 'Chandler', 'Laredo', 'Norfolk', 'Durham', 'Madison', 'Lubbock', 'Irvine', 'Winston-Salem', 'Glendale', 'Garland', 'Hialeah', 'Reno', 'Chesapeake', 'Gilbert', 'Baton Rouge', 'Irving', 'Scottsdale', 'North Las Vegas', 'Fremont', 'Boise City', 'Richmond', 'San Bernardino', 'Birmingham', 'Spokane', 'Rochester', 'Des Moines', 'Modesto', 'Fayetteville', 'Tacoma', 'Oxnard', 'Fontana', 'Columbus', 'Montgomery', 'Moreno Valley', 'Shreveport', 'Aurora', 'Yonkers', 'Akron', 'Huntington Beach', 'Little Rock', 'Augusta-Richmond County', 'Amarillo', 'Glendale', 'Mobile', 'Grand Rapids', 'Salt Lake City', 'Tallahassee']\n",
      "Coordinates: [(40.7127837, -74.0059413), (34.0522342, -118.2436849), (41.8781136, -87.6297982), (29.7604267, -95.3698028), (39.9525839, -75.1652215), (33.4483771, -112.0740373), (29.4241219, -98.49362819999999), (32.715738, -117.1610838), (32.7766642, -96.79698789999999), (37.3382082, -121.8863286), (30.267153, -97.7430608), (39.768403, -86.158068), (30.3321838, -81.65565099999999), (37.7749295, -122.4194155), (39.9611755, -82.99879419999999), (35.2270869, -80.8431267), (32.7554883, -97.3307658), (42.331427, -83.0457538), (31.7775757, -106.4424559), (35.1495343, -90.0489801), (47.6062095, -122.3320708), (39.7392358, -104.990251), (38.9071923, -77.0368707), (42.3600825, -71.0588801), (36.1626638, -86.7816016), (39.2903848, -76.6121893), (35.4675602, -97.5164276), (38.2526647, -85.7584557), (45.5230622, -122.6764816), (36.1699412, -115.1398296), (43.0389025, -87.9064736), (35.0853336, -106.6055534), (32.2217429, -110.926479), (36.7468422, -119.7725868), (38.5815719, -121.4943996), (33.7700504, -118.1937395), (39.0997265, -94.5785667), (33.4151843, -111.8314724), (36.8529263, -75.97798499999999), (33.7489954, -84.3879824), (38.8338816, -104.8213634), (41.2523634, -95.99798829999999), (35.7795897, -78.6381787), (25.7616798, -80.1917902), (37.8043637, -122.2711137), (44.977753, -93.2650108), (36.1539816, -95.99277500000001), (41.49932, -81.6943605), (37.688889, -97.336111), (32.735687, -97.10806559999999), (29.95106579999999, -90.0715323), (35.3732921, -119.0187125), (27.950575, -82.4571776), (21.3069444, -157.8583333), (39.7294319, -104.8319195), (33.8352932, -117.9145036), (33.7455731, -117.8678338), (38.6270025, -90.19940419999999), (33.9533487, -117.3961564), (27.8005828, -97.39638099999999), (38.0405837, -84.5037164), (40.44062479999999, -79.9958864), (61.2180556, -149.9002778), (37.9577016, -121.2907796), (39.1031182, -84.5120196), (44.9537029, -93.0899578), (41.6639383, -83.55521200000001), (36.0726354, -79.7919754), (40.735657, -74.1723667), (33.0198431, -96.6988856), (36.0395247, -114.9817213), (40.8257625, -96.6851982), (42.88644679999999, -78.8783689), (40.72815749999999, -74.0776417), (32.6400541, -117.0841955), (41.079273, -85.1393513), (28.5383355, -81.3792365), (27.773056, -82.64), (33.3061605, -111.8412502), (27.5305671, -99.48032409999999), (36.8507689, -76.28587259999999), (35.9940329, -78.898619), (43.0730517, -89.4012302), (33.5778631, -101.8551665), (33.6839473, -117.7946942), (36.09985959999999, -80.244216), (33.5386523, -112.1859866), (32.912624, -96.63888329999999), (25.8575963, -80.2781057), (39.5296329, -119.8138027), (36.7682088, -76.2874927), (33.3528264, -111.789027), (30.4582829, -91.1403196), (32.8140177, -96.9488945), (33.4941704, -111.9260519), (36.1988592, -115.1175013), (37.5482697, -121.9885719), (43.6187102, -116.2146068), (37.5407246, -77.4360481), (34.1083449, -117.2897652), (33.5206608, -86.80248999999999), (47.6587802, -117.4260466), (43.16103, -77.6109219), (41.6005448, -93.6091064), (37.63909719999999, -120.9968782), (35.0526641, -78.87835849999999), (47.2528768, -122.4442906), (34.1975048, -119.1770516), (34.0922335, -117.435048), (32.4609764, -84.9877094), (32.3668052, -86.2999689), (33.9424658, -117.2296717), (32.5251516, -93.7501789), (41.7605849, -88.32007150000001), (40.9312099, -73.89874689999999), (41.0814447, -81.51900529999999), (33.660297, -117.9992265), (34.7464809, -92.28959479999999), (33.4734978, -82.0105148), (35.2219971, -101.8312969), (34.1425078, -118.255075), (30.6953657, -88.0398912), (42.9633599, -85.6680863), (40.7607793, -111.8910474), (30.4382559, -84.28073289999999)]\n"
     ]
    }
   ],
   "source": [
    "path = \"..\\Project 3\\cities.json\"\n",
    "\n",
    "with open(path, 'r') as file:\n",
    "    data = json.load(file)\n",
    "\n",
    "# Initialize lists to store cities and coordinates\n",
    "cities = []\n",
    "coordinates = []\n",
    "\n",
    "# Extract data from JSON\n",
    "for entry in data:\n",
    "    cities.append(entry['city'])\n",
    "    coordinates.append((entry['latitude'], entry['longitude']))\n",
    "\n",
    "# Print the lists\n",
    "print(\"Cities:\", cities)\n",
    "print(\"Coordinates:\", coordinates)"
   ]
  },
  {
   "cell_type": "code",
   "execution_count": 63,
   "metadata": {},
   "outputs": [
    {
     "name": "stdout",
     "output_type": "stream",
     "text": [
      "{'aqi': 2}\n"
     ]
    }
   ],
   "source": [
    "# Test to see the json data\n",
    "lat = 40.7608\n",
    "lon = 111.8910\n",
    "start = 1606460400\n",
    "end = 1606546800\n",
    "historical_url = f\"http://api.openweathermap.org/data/2.5/air_pollution?lat={lat}&lon={lon}&appid={api_key}\"\n",
    "test_call = requests.get(historical_url).json()\n",
    "print(test_call['list'][0]['main'])"
   ]
  },
  {
   "cell_type": "code",
   "execution_count": 10,
   "metadata": {},
   "outputs": [
    {
     "name": "stderr",
     "output_type": "stream",
     "text": [
      "Exception ignored in: <bound method IPythonKernel._clean_thread_parent_frames of <ipykernel.ipkernel.IPythonKernel object at 0x00000223666F1A50>>\n",
      "Traceback (most recent call last):\n",
      "  File \"c:\\Users\\Owner\\anaconda3\\envs\\dev\\lib\\site-packages\\ipykernel\\ipkernel.py\", line 770, in _clean_thread_parent_frames\n",
      "    def _clean_thread_parent_frames(\n",
      "KeyboardInterrupt: \n"
     ]
    }
   ],
   "source": [
    "historical_url = f\"http://api.openweathermap.org/data/2.5/air_pollution/history?\"\n",
    "\n",
    "city_data = []\n",
    "\n",
    "start = 1606460400\n",
    "end = 1701068400\n",
    "# Loop through all the cities in our list to fetch weather data\n",
    "for i, (lat, lon) in enumerate(coordinates):\n",
    "\n",
    "    # Create endpoint URL with each city\n",
    "    city_url = f'{historical_url}lat={lat}&lon={lon}&start={start}&end={end}&appid={api_key}'\n",
    "\n",
    "    # Run an API request for each of the cities\n",
    "    try:\n",
    "        # Parse the JSON and retrieve data\n",
    "        city_air = requests.get(city_url).json()\n",
    "\n",
    "        # Parse out latitude, longitude, max temp, humidity, cloudiness, wind speed, country, and date\n",
    "        city_coords =  city_air['coord']\n",
    "        city_SO2 = city_air['list'][0]['components']['so2']\n",
    "        city_NO2 = city_air['list'][0]['components']['no']\n",
    "        city_PM10 = city_air['list'][0]['components']['pm10']\n",
    "        city_PM25 = city_air['list'][0]['components']['pm2_5']\n",
    "        city_O3 = city_air['list'][0]['components']['o3']\n",
    "        city_CO2 = city_air['list'][0]['components']['co']\n",
    "        city_aqi = city_air['list'][0]['main']\n",
    "\n",
    "        # Append the City information into city_data list\n",
    "        city_data.append({\"Coordinates\": city_coords, \n",
    "                          \"Sulphur dioxide (SO2)\": city_SO2, \n",
    "                          \"Nitrogen dioxide (NO2)\": city_NO2, \n",
    "                          \"Particulates 2.5\": city_PM25,\n",
    "                          \"Particulates 10\": city_PM10,\n",
    "                          \"Ozone (O3)\": city_O3,\n",
    "                          \"Carbon monoxide (CO)\": city_CO2,\n",
    "                          \"Air Quality Index\": city_aqi\n",
    "                        })\n",
    "\n",
    "    # If an error is experienced, skip the city\n",
    "    except Exception as e:\n",
    "        print(f\"An error occurred for city at {lat}, {lon}: {e}\")\n",
    "        pass\n",
    "              \n",
    "# Indicate that Data Loading is complete \n",
    "print(\"-----------------------------\")\n",
    "print(\"Data Retrieval Complete      \")\n",
    "print(\"-----------------------------\")"
   ]
  },
  {
   "cell_type": "code",
   "execution_count": null,
   "metadata": {},
   "outputs": [],
   "source": [
    "pollution_df = pd.DataFrame(city_data)\n",
    "pollution_df.head()"
   ]
  }
 ],
 "metadata": {
  "anaconda-cloud": {},
  "kernelspec": {
   "display_name": "Python 3 (ipykernel)",
   "language": "python",
   "name": "python3"
  },
  "language_info": {
   "codemirror_mode": {
    "name": "ipython",
    "version": 3
   },
   "file_extension": ".py",
   "mimetype": "text/x-python",
   "name": "python",
   "nbconvert_exporter": "python",
   "pygments_lexer": "ipython3",
   "version": "3.10.13"
  }
 },
 "nbformat": 4,
 "nbformat_minor": 4
}
