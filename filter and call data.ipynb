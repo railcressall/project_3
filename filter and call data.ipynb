{
 "cells": [
  {
   "cell_type": "markdown",
   "metadata": {},
   "source": [
    "# Geoapify Geocode Demo"
   ]
  },
  {
   "cell_type": "code",
   "execution_count": 15,
   "metadata": {},
   "outputs": [],
   "source": [
    "# Dependencies and Setup\n",
    "import matplotlib.pyplot as plt\n",
    "import pandas as pd\n",
    "import numpy as np\n",
    "import requests\n",
    "import time\n",
    "from scipy.stats import linregress\n",
    "from pprint import pprint\n",
    "# Import citipy to determine the cities based on latitude and longitude\n",
    "from citipy import citipy\n",
    "# Import the API key\n",
    "api_key = \"60a6ffdd990b65ca16853197a6e0c84c\""
   ]
  },
  {
   "cell_type": "code",
   "execution_count": 27,
   "metadata": {},
   "outputs": [
    {
     "name": "stdout",
     "output_type": "stream",
     "text": [
      "Number of cities in the list: 600\n"
     ]
    }
   ],
   "source": [
    "# Empty list for holding the latitude and longitude combinations\n",
    "lat_lngs = []\n",
    "\n",
    "# Empty list for holding the cities names\n",
    "cities = []\n",
    "\n",
    "# Range of latitudes and longitudes\n",
    "lat_range = (-90, 90)\n",
    "lng_range = (-180, 180)\n",
    "\n",
    "# Create a set of random lat and lng combinations\n",
    "lats = np.random.uniform(lat_range[0], lat_range[1], size=1500)\n",
    "lngs = np.random.uniform(lng_range[0], lng_range[1], size=1500)\n",
    "lat_lngs = zip(lats, lngs)\n",
    "\n",
    "# Identify nearest city for each lat, lng combination\n",
    "for lat_lng in lat_lngs:\n",
    "    city = citipy.nearest_city(lat_lng[0], lat_lng[1]).city_name\n",
    "    \n",
    "    # If the city is unique, then add it to a our cities list\n",
    "    if city not in cities:\n",
    "        cities.append(city)\n",
    "\n",
    "# Print the city count to confirm sufficient count\n",
    "print(f\"Number of cities in the list: {len(cities)}\")"
   ]
  },
  {
   "cell_type": "code",
   "execution_count": 63,
   "metadata": {},
   "outputs": [
    {
     "name": "stdout",
     "output_type": "stream",
     "text": [
      "{'aqi': 2}\n"
     ]
    }
   ],
   "source": [
    "# Test to see the json data\n",
    "lat = 40.7608\n",
    "lon = 111.8910\n",
    "start = 1606460400\n",
    "end = 1606546800\n",
    "historical_url = f\"http://api.openweathermap.org/data/2.5/air_pollution?lat={lat}&lon={lon}&appid={api_key}\"\n",
    "test_call = requests.get(historical_url).json()\n",
    "print(test_call['list'][0]['main'])"
   ]
  },
  {
   "cell_type": "code",
   "execution_count": null,
   "metadata": {},
   "outputs": [],
   "source": [
    "historical_url = f\"http://api.openweathermap.org/data/2.5/air_pollution/history?\"\n",
    "\n",
    "city_data = []\n",
    "\n",
    "start = 1606460400\n",
    "end = 1701068400\n",
    "# Loop through all the cities in our list to fetch weather data\n",
    "for i, (lat, lon) in enumerate(lat_lngs):\n",
    "\n",
    "    # Create endpoint URL with each city\n",
    "    city_url = f'{historical_url}lat={lat}&lon={lon}&start={start}&end={end}&appid={api_key}'\n",
    "\n",
    "    # Run an API request for each of the cities\n",
    "    try:\n",
    "        # Parse the JSON and retrieve data\n",
    "        city_air = requests.get(city_url).json()\n",
    "\n",
    "        # Parse out latitude, longitude, max temp, humidity, cloudiness, wind speed, country, and date\n",
    "        city_coords =  city_url['coord']\n",
    "        city_SO2 = city_url['list'][0]['components']['so2']\n",
    "        city_NO2 = city_url['list'][0]['components']['no']\n",
    "        city_PM10 = city_url['list'][0]['components']['pm10']\n",
    "        city_PM25 = city_url['list'][0]['components']['pm2_5']\n",
    "        city_O3 = city_url['list'][0]['components']['o3']\n",
    "        city_CO2 = city_url['list'][0]['components']['co']\n",
    "        city_aqi = city_url['list'][0]['main']\n",
    "\n",
    "        # Append the City information into city_data list\n",
    "        city_data.append({\"Coordinates\": city_coords, \n",
    "                          \"Sulphur dioxide (SO2)\": city_SO2, \n",
    "                          \"Nitrogen dioxide (NO2)\": city_NO2, \n",
    "                          \"Particulates 2.5\": city_PM25,\n",
    "                          \"Particulates 10\": city_PM10,\n",
    "                          \"Ozone (O3)\": city_O3,\n",
    "                          \"Carbon monoxide (CO)\": city_CO2,\n",
    "                          \"Air Quality Index\": city_aqi\n",
    "                        })\n",
    "\n",
    "    # If an error is experienced, skip the city\n",
    "    except:\n",
    "        pass\n",
    "              \n",
    "# Indicate that Data Loading is complete \n",
    "print(\"-----------------------------\")\n",
    "print(\"Data Retrieval Complete      \")\n",
    "print(\"-----------------------------\")"
   ]
  },
  {
   "cell_type": "code",
   "execution_count": null,
   "metadata": {},
   "outputs": [],
   "source": [
    "pollution_df = pd.DataFrame(city_data)\n",
    "pollution_df.head()"
   ]
  }
 ],
 "metadata": {
  "anaconda-cloud": {},
  "kernelspec": {
   "display_name": "Python 3 (ipykernel)",
   "language": "python",
   "name": "python3"
  },
  "language_info": {
   "codemirror_mode": {
    "name": "ipython",
    "version": 3
   },
   "file_extension": ".py",
   "mimetype": "text/x-python",
   "name": "python",
   "nbconvert_exporter": "python",
   "pygments_lexer": "ipython3",
   "version": "3.10.13"
  }
 },
 "nbformat": 4,
 "nbformat_minor": 4
}
